{
 "cells": [
  {
   "cell_type": "code",
   "execution_count": 4,
   "id": "hydraulic-guide",
   "metadata": {},
   "outputs": [],
   "source": [
    "import pandas as pd\n",
    "from collections import Counter\n",
    "import numpy as np\n",
    "import matplotlib.pyplot as plt\n",
    "import re\n",
    "\n"
   ]
  },
  {
   "cell_type": "code",
   "execution_count": null,
   "id": "dental-despite",
   "metadata": {},
   "outputs": [],
   "source": [
    "def createVocabulary(reviews):\n",
    "    vocabulary = []\n",
    "    for i in range(0,len(reviews)):\n",
    "        tweet2 = re.sub(r'^RT[\\s]+', '', reviews[i])\n",
    "\n",
    "        tweet2 = re.sub(r'https?:\\/\\/.*[\\r\\n]*', '', tweet2)\n",
    "\n",
    "        tweet2 = re.sub(r'#', '', tweet2)\n",
    "        word = tweet2.split(' ')\n",
    "        for j in range(0,len(word)):\n",
    "            join_word = ''.join(word[j])\n",
    "            un_word = Counter(join_word)\n",
    "            s = ''.join(un_word.keys())\n",
    "            if s not in vocabulary:\n",
    "                vocabulary.append(s)\n",
    "\n",
    "    return vocabulary"
   ]
  }
 ],
 "metadata": {
  "kernelspec": {
   "display_name": "Python 3",
   "language": "python",
   "name": "python3"
  },
  "language_info": {
   "codemirror_mode": {
    "name": "ipython",
    "version": 3
   },
   "file_extension": ".py",
   "mimetype": "text/x-python",
   "name": "python",
   "nbconvert_exporter": "python",
   "pygments_lexer": "ipython3",
   "version": "3.8.5"
  }
 },
 "nbformat": 4,
 "nbformat_minor": 5
}
