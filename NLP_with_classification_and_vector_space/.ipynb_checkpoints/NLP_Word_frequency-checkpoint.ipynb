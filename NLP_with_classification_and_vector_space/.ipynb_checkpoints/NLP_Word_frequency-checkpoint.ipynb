{
 "cells": [
  {
   "cell_type": "code",
   "execution_count": 2,
   "id": "ceramic-nicholas",
   "metadata": {},
   "outputs": [],
   "source": [
    "import pandas as pd\n",
    "from collections import Counter\n",
    "import numpy as np\n",
    "import matplotlib.pyplot as plt\n",
    "import re\n",
    "\n",
    "from nltk.corpus import stopwords          # module for stop words that come with NLTK\n",
    "from nltk.stem import PorterStemmer        # module for stemming\n",
    "from nltk.tokenize import TweetTokenizer  "
   ]
  },
  {
   "cell_type": "code",
   "execution_count": 70,
   "id": "cosmetic-sample",
   "metadata": {},
   "outputs": [],
   "source": [
    "stopwords_english = stopwords.words('english') \n",
    "import string                              # for string operations\n",
    "\n",
    "def createVocabulary(reviews):\n",
    "    vocabulary = []\n",
    "    stemmed = []\n",
    "    for i in range(0,len(reviews)):\n",
    "        review = re.sub(r'@[A-Za-z0-9]+', '', reviews[i])\n",
    "        review = re.sub(r'https?:\\/\\/.*[\\r\\n]*', '', review) # Revome URL\n",
    "        review = re.sub(r'#', '', review)\n",
    "        review = review.lower()\n",
    "        review = review.split()\n",
    "        ps = PorterStemmer()\n",
    "        all_stopwords = stopwords.words('english')\n",
    "        all_stopwords.remove('not')      #Beacuse it removes the 'not'\n",
    "        review = [ps.stem(word) for word in review if not word in set(all_stopwords)]\n",
    "        review = ' '.join(review)\n",
    "        vocabulary.append(review)\n",
    "    return vocabulary \n",
    "        \n",
    "    \n",
    "    \n",
    "    \n",
    "    \n",
    "    \n",
    "#     for i in range(0,len(reviews)):\n",
    "#         tweet2 = re.sub(r'^RT[\\s]+', '', reviews[i])\n",
    "#         tweet2 = re.sub(r'https?:\\/\\/.*[\\r\\n]*', '', tweet2)\n",
    "#         tweet2 = re.sub(r'#', '', tweet2)\n",
    "#         word = tweet2.split(' ')\n",
    "#         stemmer = PorterStemmer()\n",
    "#         for w in word:\n",
    "#             if (w not in stopwords_english and w not in string.punctuation):\n",
    "#                 for j in range(0,len(word)):\n",
    "#                     join_word = ''.join(word[j])\n",
    "#                     un_word = Counter(join_word)\n",
    "#                     s = ''.join(un_word.keys())\n",
    "#                     if s not in vocabulary:\n",
    "#                         vocabulary.append(s.lower())\n",
    "#                         break\n",
    "\n",
    "#     return vocabulary"
   ]
  },
  {
   "cell_type": "code",
   "execution_count": 71,
   "id": "annual-anderson",
   "metadata": {},
   "outputs": [],
   "source": [
    "# importing the twitter data\n",
    "\n",
    "positive_tweets = pd.read_json('./positive_tweets.json',lines=True)\n",
    "negative_tweets = pd.read_json('./negative_tweets.json',lines=True)\n"
   ]
  },
  {
   "cell_type": "code",
   "execution_count": 72,
   "id": "industrial-scotland",
   "metadata": {},
   "outputs": [
    {
     "name": "stdout",
     "output_type": "stream",
     "text": [
      "Number of positive tweets :  5000\n",
      "Number of negative tweets :  5000\n"
     ]
    }
   ],
   "source": [
    "print(\"Number of positive tweets : \",len(positive_tweets))\n",
    "print(\"Number of negative tweets : \",len(negative_tweets))"
   ]
  },
  {
   "cell_type": "code",
   "execution_count": 73,
   "id": "exact-database",
   "metadata": {},
   "outputs": [],
   "source": [
    "pos = createVocabulary(positive_tweets.text)\n",
    "neg = createVocabulary(negative_tweets.text)"
   ]
  },
  {
   "cell_type": "code",
   "execution_count": 75,
   "id": "several-clinic",
   "metadata": {},
   "outputs": [
    {
     "name": "stdout",
     "output_type": "stream",
     "text": [
      "followfriday _gouv top influenc commun week :)\n"
     ]
    }
   ],
   "source": []
  }
 ],
 "metadata": {
  "kernelspec": {
   "display_name": "Python 3",
   "language": "python",
   "name": "python3"
  },
  "language_info": {
   "codemirror_mode": {
    "name": "ipython",
    "version": 3
   },
   "file_extension": ".py",
   "mimetype": "text/x-python",
   "name": "python",
   "nbconvert_exporter": "python",
   "pygments_lexer": "ipython3",
   "version": "3.8.5"
  }
 },
 "nbformat": 4,
 "nbformat_minor": 5
}
