{
 "cells": [
  {
   "cell_type": "markdown",
   "id": "offensive-evaluation",
   "metadata": {},
   "source": [
    "# Creating Vocubalary"
   ]
  },
  {
   "cell_type": "code",
   "execution_count": 32,
   "id": "finite-cedar",
   "metadata": {},
   "outputs": [],
   "source": [
    "\n",
    "from collections import Counter\n",
    "def createVocabulary(reviews):\n",
    "    vocabulary = []\n",
    "    for i in range(0,len(reviews)):\n",
    "        word = reviews[i].split(' ')\n",
    "        for j in range(0,len(word)):\n",
    "            join_word = ''.join(word[j])\n",
    "            un_word = Counter(join_word)\n",
    "            s = ' '.join(un_word.keys())\n",
    "            if s not in vocabulary:\n",
    "                vocabulary.append(s)\n",
    "\n",
    "    return vocabulary"
   ]
  },
  {
   "cell_type": "code",
   "execution_count": 33,
   "id": "sweet-passenger",
   "metadata": {},
   "outputs": [
    {
     "name": "stdout",
     "output_type": "stream",
     "text": [
      "['I', 'l o v e', 't h i s', 'h o t e l ,', 'i t', 'a m', 'i n', 'h e a v n', ',', 'g r e a t', 'h o t e l', 'W h a t', 'a n', 'a m z i n g', 'f o d', 'd o n t', 'l i k e', 't h e', 'f o d !', 'H A t e']\n"
     ]
    }
   ],
   "source": [
    "corpus = ['I love this hotel, I love it','I am in heaven , great hotel','What an amazing food','I dont like the food! HAte it' ]\n",
    "voc = createVocabulary(corpus)  # ---> This is called corpus\n",
    "print(voc)"
   ]
  },
  {
   "cell_type": "markdown",
   "id": "russian-haven",
   "metadata": {},
   "source": [
    "# Feature Extraction"
   ]
  },
  {
   "cell_type": "code",
   "execution_count": 34,
   "id": "painful-stability",
   "metadata": {},
   "outputs": [],
   "source": [
    "sample_positive = 'I love this food'\n",
    "sample_negative = 'I hate this food'"
   ]
  },
  {
   "cell_type": "markdown",
   "id": "fifth-fusion",
   "metadata": {},
   "source": [
    "Now creating posivive and negative frequency based on the sample_data"
   ]
  },
  {
   "cell_type": "code",
   "execution_count": 44,
   "id": "corresponding-timothy",
   "metadata": {},
   "outputs": [
    {
     "name": "stdout",
     "output_type": "stream",
     "text": [
      "     Vocubulary\n",
      "0             I\n",
      "1       l o v e\n",
      "2       t h i s\n",
      "3   h o t e l ,\n",
      "4           i t\n",
      "5           a m\n",
      "6           i n\n",
      "7     h e a v n\n",
      "8             ,\n",
      "9     g r e a t\n",
      "10    h o t e l\n",
      "11      W h a t\n",
      "12          a n\n",
      "13  a m z i n g\n",
      "14        f o d\n",
      "15      d o n t\n",
      "16      l i k e\n",
      "17        t h e\n",
      "18      f o d !\n",
      "19      H A t e\n"
     ]
    }
   ],
   "source": [
    "import pandas as pd\n",
    "d = {'Vocubulary':voc}\n",
    "d = pd.DataFrame(d)\n",
    "print(d)"
   ]
  }
 ],
 "metadata": {
  "kernelspec": {
   "display_name": "Python 3",
   "language": "python",
   "name": "python3"
  },
  "language_info": {
   "codemirror_mode": {
    "name": "ipython",
    "version": 3
   },
   "file_extension": ".py",
   "mimetype": "text/x-python",
   "name": "python",
   "nbconvert_exporter": "python",
   "pygments_lexer": "ipython3",
   "version": "3.8.5"
  }
 },
 "nbformat": 4,
 "nbformat_minor": 5
}
