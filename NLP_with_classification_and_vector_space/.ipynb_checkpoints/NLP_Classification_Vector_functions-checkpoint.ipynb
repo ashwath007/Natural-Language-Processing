{
 "cells": [
  {
   "cell_type": "markdown",
   "id": "directed-brazilian",
   "metadata": {},
   "source": [
    "# Creating Vocubalary"
   ]
  },
  {
   "cell_type": "code",
   "execution_count": 46,
   "id": "ordinary-religion",
   "metadata": {},
   "outputs": [],
   "source": [
    "\n",
    "from collections import Counter\n",
    "def createVocabulary(reviews):\n",
    "    vocabulary = []\n",
    "    for i in range(0,len(reviews)):\n",
    "        word = reviews[i].split(' ')\n",
    "        for j in range(0,len(word)):\n",
    "            join_word = ''.join(word[j])\n",
    "            un_word = Counter(join_word)\n",
    "            s = ''.join(un_word.keys())\n",
    "            if s not in vocabulary:\n",
    "                vocabulary.append(s)\n",
    "\n",
    "    return vocabulary"
   ]
  },
  {
   "cell_type": "code",
   "execution_count": 47,
   "id": "increasing-centre",
   "metadata": {},
   "outputs": [
    {
     "name": "stdout",
     "output_type": "stream",
     "text": [
      "['I', 'love', 'this', 'hotel,', 'it', 'am', 'in', 'heavn', ',', 'great', 'hotel', 'What', 'an', 'amzing', 'fod', 'dont', 'like', 'the', 'fod!', 'HAte']\n"
     ]
    }
   ],
   "source": [
    "corpus = ['I love this hotel, I love it','I am in heaven , great hotel','What an amazing food','I dont like the food! HAte it' ]\n",
    "voc = createVocabulary(corpus)  # ---> This is called corpus\n",
    "print(voc)"
   ]
  },
  {
   "cell_type": "markdown",
   "id": "eleven-emergency",
   "metadata": {},
   "source": [
    "# Feature Extraction"
   ]
  },
  {
   "cell_type": "code",
   "execution_count": 48,
   "id": "moved-biology",
   "metadata": {},
   "outputs": [],
   "source": [
    "sample_positive = 'I love this food'\n",
    "sample_negative = 'I hate this food'"
   ]
  },
  {
   "cell_type": "markdown",
   "id": "effective-mechanism",
   "metadata": {},
   "source": [
    "Now creating posivive and negative frequency based on the sample_data"
   ]
  },
  {
   "cell_type": "code",
   "execution_count": 49,
   "id": "solved-brake",
   "metadata": {},
   "outputs": [
    {
     "name": "stdout",
     "output_type": "stream",
     "text": [
      "[1, 1, 1, 0, 0, 0, 0, 0, 0, 0, 0, 0, 0, 0, 0, 0, 0, 0, 0, 0]\n",
      "   Vocubulary\n",
      "0           I\n",
      "1        love\n",
      "2        this\n",
      "3      hotel,\n",
      "4          it\n",
      "5          am\n",
      "6          in\n",
      "7       heavn\n",
      "8           ,\n",
      "9       great\n",
      "10      hotel\n",
      "11       What\n",
      "12         an\n",
      "13     amzing\n",
      "14        fod\n",
      "15       dont\n",
      "16       like\n",
      "17        the\n",
      "18       fod!\n",
      "19       HAte\n"
     ]
    }
   ],
   "source": [
    "import pandas as pd\n",
    "def createFrequency(words):\n",
    "    l=[]\n",
    "    s = words.split(' ')\n",
    "    for i in range(0,len(voc)):\n",
    "        l.append(words.count(voc[i]))\n",
    "    return l\n",
    "        \n",
    "        \n",
    "        \n",
    "\n",
    "print(\"Positive Sample : \",createFrequency(sample_positive))        \n",
    "print(\"Negative Sample : \",createFrequency(sample_positive))        \n",
    "        \n",
    "d = {'Vocubulary':voc}\n",
    "d = pd.DataFrame(d)\n",
    "print(d)"
   ]
  },
  {
   "cell_type": "code",
   "execution_count": null,
   "id": "round-harvest",
   "metadata": {},
   "outputs": [],
   "source": []
  }
 ],
 "metadata": {
  "kernelspec": {
   "display_name": "Python 3",
   "language": "python",
   "name": "python3"
  },
  "language_info": {
   "codemirror_mode": {
    "name": "ipython",
    "version": 3
   },
   "file_extension": ".py",
   "mimetype": "text/x-python",
   "name": "python",
   "nbconvert_exporter": "python",
   "pygments_lexer": "ipython3",
   "version": "3.8.5"
  }
 },
 "nbformat": 4,
 "nbformat_minor": 5
}
