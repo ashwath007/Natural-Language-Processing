{
 "cells": [
  {
   "cell_type": "markdown",
   "id": "sublime-theme",
   "metadata": {},
   "source": [
    "# Creating Vocubalary"
   ]
  },
  {
   "cell_type": "code",
   "execution_count": 46,
   "id": "polyphonic-vegetarian",
   "metadata": {},
   "outputs": [],
   "source": [
    "\n",
    "from collections import Counter\n",
    "def createVocabulary(reviews):\n",
    "    vocabulary = []\n",
    "    for i in range(0,len(reviews)):\n",
    "        word = reviews[i].split(' ')\n",
    "        for j in range(0,len(word)):\n",
    "            join_word = ''.join(word[j])\n",
    "            un_word = Counter(join_word)\n",
    "            s = ''.join(un_word.keys())\n",
    "            if s not in vocabulary:\n",
    "                vocabulary.append(s)\n",
    "\n",
    "    return vocabulary"
   ]
  },
  {
   "cell_type": "code",
   "execution_count": 47,
   "id": "positive-banner",
   "metadata": {},
   "outputs": [
    {
     "name": "stdout",
     "output_type": "stream",
     "text": [
      "['I', 'love', 'this', 'hotel,', 'it', 'am', 'in', 'heavn', ',', 'great', 'hotel', 'What', 'an', 'amzing', 'fod', 'dont', 'like', 'the', 'fod!', 'HAte']\n"
     ]
    }
   ],
   "source": [
    "corpus = ['I love this hotel, I love it','I am in heaven , great hotel','What an amazing food','I dont like the food! HAte it' ]\n",
    "voc = createVocabulary(corpus)  # ---> This is called corpus\n",
    "print(voc)"
   ]
  },
  {
   "cell_type": "markdown",
   "id": "sexual-storm",
   "metadata": {},
   "source": [
    "# Feature Extraction"
   ]
  },
  {
   "cell_type": "code",
   "execution_count": 55,
   "id": "front-great",
   "metadata": {},
   "outputs": [],
   "source": [
    "sample_positive = 'I love this food'\n",
    "sample_negative = 'I HAte this food'"
   ]
  },
  {
   "cell_type": "markdown",
   "id": "loaded-arcade",
   "metadata": {},
   "source": [
    "Now creating posivive and negative frequency based on the sample_data"
   ]
  },
  {
   "cell_type": "code",
   "execution_count": 60,
   "id": "noticed-sympathy",
   "metadata": {},
   "outputs": [
    {
     "name": "stdout",
     "output_type": "stream",
     "text": [
      "Positive Sample :  [1, 1, 1, 0, 0, 0, 0, 0, 0, 0, 0, 0, 0, 0, 0, 0, 0, 0, 0, 0]\n",
      "Negative Sample :  [1, 0, 1, 0, 0, 0, 0, 0, 0, 0, 0, 0, 0, 0, 0, 0, 0, 0, 0, 1]\n",
      "   Vocubulary  Positive Frequency  Negative Frequency\n",
      "0           I                   1                   1\n",
      "1        love                   1                   0\n",
      "2        this                   1                   1\n",
      "3      hotel,                   0                   0\n",
      "4          it                   0                   0\n",
      "5          am                   0                   0\n",
      "6          in                   0                   0\n",
      "7       heavn                   0                   0\n",
      "8           ,                   0                   0\n",
      "9       great                   0                   0\n",
      "10      hotel                   0                   0\n",
      "11       What                   0                   0\n",
      "12         an                   0                   0\n",
      "13     amzing                   0                   0\n",
      "14        fod                   0                   0\n",
      "15       dont                   0                   0\n",
      "16       like                   0                   0\n",
      "17        the                   0                   0\n",
      "18       fod!                   0                   0\n",
      "19       HAte                   0                   1\n"
     ]
    }
   ],
   "source": [
    "import pandas as pd\n",
    "def createFrequency(words):\n",
    "    l=[]\n",
    "    s = words.split(' ')\n",
    "    for i in range(0,len(voc)):\n",
    "        l.append(words.count(voc[i]))\n",
    "    return l\n",
    "        \n",
    "        \n",
    "        \n",
    "pos_result = createFrequency(sample_positive)\n",
    "neg_result = createFrequency(sample_negative)\n",
    "print(\"Positive Sample : \",pos_result)        \n",
    "print(\"Negative Sample : \",neg_result)        \n",
    "        \n",
    "d = {'Vocubulary':voc,'Positive Frequency':pos_result,'Negative Frequency':neg_result}\n",
    "d = pd.DataFrame(d)\n",
    "print(d)"
   ]
  },
  {
   "cell_type": "markdown",
   "id": "scheduled-charge",
   "metadata": {},
   "source": [
    "# Preprocessing\n",
    "   1. Stemming\n",
    "   2. Stop Words"
   ]
  },
  {
   "cell_type": "code",
   "execution_count": 63,
   "id": "talented-lease",
   "metadata": {},
   "outputs": [
    {
     "name": "stderr",
     "output_type": "stream",
     "text": [
      "[nltk_data] Downloading package stopwords to\n",
      "[nltk_data]     /home/ashwath/nltk_data...\n",
      "[nltk_data]   Package stopwords is already up-to-date!\n"
     ]
    }
   ],
   "source": [
    "#Importing Regular Expression and NLTK\n",
    "import re\n",
    "import nltk\n",
    "stop_words = nltk.download('stopwords')"
   ]
  },
  {
   "cell_type": "code",
   "execution_count": 67,
   "id": "functioning-printer",
   "metadata": {},
   "outputs": [
    {
     "name": "stderr",
     "output_type": "stream",
     "text": [
      "[nltk_data] Downloading package twitter_samples to\n",
      "[nltk_data]     /home/ashwath/nltk_data...\n",
      "[nltk_data]   Unzipping corpora/twitter_samples.zip.\n"
     ]
    },
    {
     "data": {
      "text/plain": [
       "True"
      ]
     },
     "execution_count": 67,
     "metadata": {},
     "output_type": "execute_result"
    }
   ],
   "source": [
    "# Downloading Tweet Data from Twitter to perform Setimental analysis\n",
    "nltk.download('twitter_samples')"
   ]
  },
  {
   "cell_type": "code",
   "execution_count": null,
   "id": "superior-baltimore",
   "metadata": {},
   "outputs": [],
   "source": []
  }
 ],
 "metadata": {
  "kernelspec": {
   "display_name": "Python 3",
   "language": "python",
   "name": "python3"
  },
  "language_info": {
   "codemirror_mode": {
    "name": "ipython",
    "version": 3
   },
   "file_extension": ".py",
   "mimetype": "text/x-python",
   "name": "python",
   "nbconvert_exporter": "python",
   "pygments_lexer": "ipython3",
   "version": "3.8.5"
  }
 },
 "nbformat": 4,
 "nbformat_minor": 5
}
