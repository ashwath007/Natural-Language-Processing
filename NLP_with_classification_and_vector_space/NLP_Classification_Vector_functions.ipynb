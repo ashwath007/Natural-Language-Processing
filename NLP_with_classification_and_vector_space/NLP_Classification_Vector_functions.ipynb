{
 "cells": [
  {
   "cell_type": "markdown",
   "id": "mature-drive",
   "metadata": {},
   "source": [
    "# Creating Vocubalary"
   ]
  },
  {
   "cell_type": "code",
   "execution_count": 23,
   "id": "accepting-diversity",
   "metadata": {},
   "outputs": [],
   "source": [
    "\n",
    "from collections import Counter\n",
    "def createVocabulary(reviews):\n",
    "    vocabulary = []\n",
    "    for i in range(0,len(reviews)):\n",
    "        word = reviews[i].split(' ')\n",
    "        for j in range(0,len(word)):\n",
    "            join_word = ''.join(word[j])\n",
    "            un_word = Counter(join_word)\n",
    "            s = ' '.join(un_word.keys())\n",
    "            if s not in vocabulary:\n",
    "                vocabulary.append(s)\n",
    "\n",
    "    return vocabulary"
   ]
  },
  {
   "cell_type": "code",
   "execution_count": 25,
   "id": "weird-effect",
   "metadata": {},
   "outputs": [
    {
     "data": {
      "text/plain": [
       "['I',\n",
       " 'l o v e',\n",
       " 't h i s',\n",
       " 'h o t e l ,',\n",
       " 'i t',\n",
       " 'a m',\n",
       " 'i n',\n",
       " 'h e a v n',\n",
       " ',',\n",
       " 'g r e a t',\n",
       " 'h o t e l']"
      ]
     },
     "execution_count": 25,
     "metadata": {},
     "output_type": "execute_result"
    }
   ],
   "source": [
    "createVocabulary(['I love this hotel, I love it','I am in heaven , great hotel'])  # ---> This is called corpus"
   ]
  },
  {
   "cell_type": "code",
   "execution_count": null,
   "id": "forbidden-maker",
   "metadata": {},
   "outputs": [],
   "source": []
  }
 ],
 "metadata": {
  "kernelspec": {
   "display_name": "Python 3",
   "language": "python",
   "name": "python3"
  },
  "language_info": {
   "codemirror_mode": {
    "name": "ipython",
    "version": 3
   },
   "file_extension": ".py",
   "mimetype": "text/x-python",
   "name": "python",
   "nbconvert_exporter": "python",
   "pygments_lexer": "ipython3",
   "version": "3.8.5"
  }
 },
 "nbformat": 4,
 "nbformat_minor": 5
}
